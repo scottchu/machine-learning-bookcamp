{
 "cells": [
  {
   "cell_type": "markdown",
   "metadata": {},
   "source": [
    "# 1 Introduction to machine learning\n",
    "**Chapter covers**\n",
    "- Understanding machine learning and the problem it can solve\n",
    "- Organizing a successful machine learning project\n",
    "- Training and selecting machine learning model\n",
    "- Performing model validation"
   ]
  },
  {
   "cell_type": "markdown",
   "metadata": {},
   "source": [
    "## 1.1 Machine Learning\n",
    "\n",
    "It uses tools from probability, statistics and optimization theory to extract patterns from data.\n",
    "\n",
    "The main idea behind machine learning is learning from exaples.\n",
    "\n",
    "The process of providing datasets and tech it by showing the examples is called training or sometimes fitting.\n",
    "\n",
    "Without machine learning, analysts and developers look at the data they have and try to find patterns manually. After that, they come up with some logic; a set of rules for converting the input data to the desired output. Then they explicitly encode these rules using a programming language, and the result is called software. In contrast with machine learning, a human does all the difficult work."
   ]
  },
  {
   "cell_type": "markdown",
   "metadata": {},
   "source": [
    "### 1.1.1 Machine learning vs. rule-based systems\n",
    "After hundreds times of iteration, rule-based system become very hard to maintain, change, and understand. It becomes impossible to include new patterns in the code without breaking the existing logic."
   ]
  },
  {
   "cell_type": "markdown",
   "metadata": {},
   "source": [
    "### 1.1.2 When machine learning isn't helpful\n",
    "\n",
    "Simple tasks, rules and heuristics often work well. It's better to start with them and then consider using ML."
   ]
  },
  {
   "cell_type": "markdown",
   "metadata": {},
   "source": [
    "### 1.1.3 Supervised machine learning\n",
    "Supervised learning is done through providing the model with features and target variable, and it figures out how to use these features to arrive at the target. It is called *supervised* because we teach and supervise the model by showing it examples, exactly as we would teach children by showing them pictures of different objects and then telling them the names of those objects.\n",
    "\n",
    "More formally, a supervised machine learning model can be expressed mathematically as\n",
    "\n",
    "$ y \\approx g(X) $\n",
    "\n",
    "where\n",
    "- $g$ is the function that we want to learning with ML.\n",
    "- $X$ is the feature matrix in which rows are feature vectors.\n",
    "- $y$ is the target variable: a vector\n",
    "\n",
    "The goal is to learn this function $g$ in such a way that when it gets the matrix $X$, the output is close to the vector $y$.\n",
    "\n",
    "The process of learning $g$ is usually called *training* or *fitting*.\n",
    "\n",
    "There are different types of supervised learning problems, and type depends on the target variable $y$. \n",
    "\n",
    "- **Regression:** the target variable $y$ is numeric\n",
    "- **Classification:** the target variable $y$ is *categorical*\n",
    "  - **Binary classification** - which has only two possible outcomes\n",
    "  - **Multiclass classification** - which has more than two possible outcomes\n",
    "\n",
    "- **Ranking:** the target variable $y$ is an ordering of elements within a group, such as the order of pages in a search-restul page. The problem of ranking often happens in areas like search and recommendations.\n",
    "\n",
    "Each supervised learning problem can be solved with different algorithms. Many types of models are available. These models define how exactly function $g$ learns to predict $y$ from $X$.\n",
    "\n",
    "- **Linear regression** for solving the regression problem\n",
    "- **Logistic regression** for solving the classification problem\n",
    "- **Tree-based model** for solving both regression and classification\n",
    "- **Neural networks** for solving both regression and classification\n",
    "\n",
    "**Deep learning** is a subfield of machine learning in which the function $g$ is a neural network with many layers."
   ]
  },
  {
   "cell_type": "markdown",
   "metadata": {},
   "source": [
    "## 1.2 Machine learning process\n",
    "\n",
    "According to CRISP-DM (Cross-Industry Standard for Data Mining), the machine learning process has 6 steps:\n",
    "- Business understanding\n",
    "- Data understanding\n",
    "- Data preparation\n",
    "- Modeling\n",
    "- Evaluation\n",
    "- Deployment"
   ]
  },
  {
   "cell_type": "markdown",
   "metadata": {},
   "source": [
    "## 1.3 Modeling and model validation\n",
    "\n",
    "By splitting dataset into 2 parts, the models on the training part, and evaluate the performance on the validation part. Using the evaluation results, we can choose the best model.\n",
    "\n",
    "The approach of using the validation dataset to select the best model with the best parameters has a sublt problem. If we repeat the process of model evaluation repeatly and use the same validation dataset for that purpose, the good numbers we observe in the validation dataset may appear just by chance. \n",
    "\n",
    "In statistics and other fields, this problem is know as the multiple-comparison problem or multiple-tests problem. The more times we make predictions on the same dataset, the more likely we are to see good performance by chance.\n",
    "\n",
    "To guard against this problem, using the same idea, we hold out part of the data again. Use the test dataset to **confirm** that the performance of the best model on the validation set is good.\n",
    "\n",
    "The process of selecting the best model and the best parameters for the model is called *model selection*."
   ]
  }
 ],
 "metadata": {
  "language_info": {
   "name": "python"
  },
  "orig_nbformat": 4
 },
 "nbformat": 4,
 "nbformat_minor": 2
}
