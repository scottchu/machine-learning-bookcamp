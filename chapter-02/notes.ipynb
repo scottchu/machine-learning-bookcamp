{
 "cells": [
  {
   "cell_type": "markdown",
   "metadata": {},
   "source": [
    "# 2 Machine learning for regression\n",
    "This chapter covers:\n",
    "- Creating a car-price prediction proejct with a linear regression model\n",
    "- Doing an initial exploratory data analysis with Jupyter notebooks\n",
    "- Setting up a validation framework\n",
    "- Implementing the linear regression model from scratch\n",
    "- Performing simple feature engineering for the model\n",
    "- Keeping the model under control with regularization\n",
    "- Using the model to predict car prices"
   ]
  },
  {
   "cell_type": "markdown",
   "metadata": {},
   "source": [
    "## 2.1 Car-price prediction project"
   ]
  },
  {
   "cell_type": "markdown",
   "metadata": {},
   "source": [
    "## Preparation"
   ]
  },
  {
   "cell_type": "code",
   "execution_count": 226,
   "metadata": {},
   "outputs": [
    {
     "name": "stdout",
     "output_type": "stream",
     "text": [
      "\u001b[31mERROR: Could not open requirements file: [Errno 2] No such file or directory: 'requirements.txt'\u001b[0m\n",
      "Note: you may need to restart the kernel to use updated packages.\n"
     ]
    }
   ],
   "source": [
    "%pip install -r requirements.txt -q"
   ]
  },
  {
   "cell_type": "code",
   "execution_count": 227,
   "metadata": {},
   "outputs": [
    {
     "data": {
      "text/plain": [
       "'chapter-02'"
      ]
     },
     "execution_count": 227,
     "metadata": {},
     "output_type": "execute_result"
    }
   ],
   "source": [
    "from utils import ensure_correct_directory\n",
    "\n",
    "\n",
    "ensure_correct_directory(\"chapter-02\")"
   ]
  },
  {
   "cell_type": "markdown",
   "metadata": {},
   "source": [
    "### 2.1.1 Downloading the dataset"
   ]
  },
  {
   "cell_type": "markdown",
   "metadata": {},
   "source": [
    "## 2.2 Exploratory data analysis\n",
    "Look at the dataset to learn\n",
    "- The distribution of the target variable\n",
    "- The features in the dataset\n",
    "- The distribution of values in these features\n",
    "- The quality of the data\n",
    "- The number of missing values\n"
   ]
  },
  {
   "cell_type": "markdown",
   "metadata": {},
   "source": [
    "### 2.2.1 Exploratory data analysis toolbox\n"
   ]
  },
  {
   "cell_type": "code",
   "execution_count": 228,
   "metadata": {},
   "outputs": [],
   "source": [
    "import numpy as np\n",
    "import pandas as pd\n",
    "\n",
    "from matplotlib import pyplot as plt\n",
    "import seaborn as sns\n",
    "\n",
    "%matplotlib inline"
   ]
  },
  {
   "cell_type": "markdown",
   "metadata": {},
   "source": [
    "### 2.2.2 Read and preparing data"
   ]
  },
  {
   "cell_type": "code",
   "execution_count": 229,
   "metadata": {},
   "outputs": [],
   "source": [
    "df = pd.read_csv(\"data/data.csv\")"
   ]
  },
  {
   "cell_type": "code",
   "execution_count": 230,
   "metadata": {},
   "outputs": [
    {
     "data": {
      "text/plain": [
       "11914"
      ]
     },
     "execution_count": 230,
     "metadata": {},
     "output_type": "execute_result"
    }
   ],
   "source": [
    "len(df)"
   ]
  },
  {
   "cell_type": "code",
   "execution_count": 231,
   "metadata": {},
   "outputs": [
    {
     "data": {
      "text/html": [
       "<div>\n",
       "<style scoped>\n",
       "    .dataframe tbody tr th:only-of-type {\n",
       "        vertical-align: middle;\n",
       "    }\n",
       "\n",
       "    .dataframe tbody tr th {\n",
       "        vertical-align: top;\n",
       "    }\n",
       "\n",
       "    .dataframe thead th {\n",
       "        text-align: right;\n",
       "    }\n",
       "</style>\n",
       "<table border=\"1\" class=\"dataframe\">\n",
       "  <thead>\n",
       "    <tr style=\"text-align: right;\">\n",
       "      <th></th>\n",
       "      <th>Make</th>\n",
       "      <th>Model</th>\n",
       "      <th>Year</th>\n",
       "      <th>Engine Fuel Type</th>\n",
       "      <th>Engine HP</th>\n",
       "      <th>Engine Cylinders</th>\n",
       "      <th>Transmission Type</th>\n",
       "      <th>Driven_Wheels</th>\n",
       "      <th>Number of Doors</th>\n",
       "      <th>Market Category</th>\n",
       "      <th>Vehicle Size</th>\n",
       "      <th>Vehicle Style</th>\n",
       "      <th>highway MPG</th>\n",
       "      <th>city mpg</th>\n",
       "      <th>Popularity</th>\n",
       "      <th>MSRP</th>\n",
       "    </tr>\n",
       "  </thead>\n",
       "  <tbody>\n",
       "    <tr>\n",
       "      <th>0</th>\n",
       "      <td>BMW</td>\n",
       "      <td>1 Series M</td>\n",
       "      <td>2011</td>\n",
       "      <td>premium unleaded (required)</td>\n",
       "      <td>335.0</td>\n",
       "      <td>6.0</td>\n",
       "      <td>MANUAL</td>\n",
       "      <td>rear wheel drive</td>\n",
       "      <td>2.0</td>\n",
       "      <td>Factory Tuner,Luxury,High-Performance</td>\n",
       "      <td>Compact</td>\n",
       "      <td>Coupe</td>\n",
       "      <td>26</td>\n",
       "      <td>19</td>\n",
       "      <td>3916</td>\n",
       "      <td>46135</td>\n",
       "    </tr>\n",
       "    <tr>\n",
       "      <th>1</th>\n",
       "      <td>BMW</td>\n",
       "      <td>1 Series</td>\n",
       "      <td>2011</td>\n",
       "      <td>premium unleaded (required)</td>\n",
       "      <td>300.0</td>\n",
       "      <td>6.0</td>\n",
       "      <td>MANUAL</td>\n",
       "      <td>rear wheel drive</td>\n",
       "      <td>2.0</td>\n",
       "      <td>Luxury,Performance</td>\n",
       "      <td>Compact</td>\n",
       "      <td>Convertible</td>\n",
       "      <td>28</td>\n",
       "      <td>19</td>\n",
       "      <td>3916</td>\n",
       "      <td>40650</td>\n",
       "    </tr>\n",
       "    <tr>\n",
       "      <th>2</th>\n",
       "      <td>BMW</td>\n",
       "      <td>1 Series</td>\n",
       "      <td>2011</td>\n",
       "      <td>premium unleaded (required)</td>\n",
       "      <td>300.0</td>\n",
       "      <td>6.0</td>\n",
       "      <td>MANUAL</td>\n",
       "      <td>rear wheel drive</td>\n",
       "      <td>2.0</td>\n",
       "      <td>Luxury,High-Performance</td>\n",
       "      <td>Compact</td>\n",
       "      <td>Coupe</td>\n",
       "      <td>28</td>\n",
       "      <td>20</td>\n",
       "      <td>3916</td>\n",
       "      <td>36350</td>\n",
       "    </tr>\n",
       "    <tr>\n",
       "      <th>3</th>\n",
       "      <td>BMW</td>\n",
       "      <td>1 Series</td>\n",
       "      <td>2011</td>\n",
       "      <td>premium unleaded (required)</td>\n",
       "      <td>230.0</td>\n",
       "      <td>6.0</td>\n",
       "      <td>MANUAL</td>\n",
       "      <td>rear wheel drive</td>\n",
       "      <td>2.0</td>\n",
       "      <td>Luxury,Performance</td>\n",
       "      <td>Compact</td>\n",
       "      <td>Coupe</td>\n",
       "      <td>28</td>\n",
       "      <td>18</td>\n",
       "      <td>3916</td>\n",
       "      <td>29450</td>\n",
       "    </tr>\n",
       "    <tr>\n",
       "      <th>4</th>\n",
       "      <td>BMW</td>\n",
       "      <td>1 Series</td>\n",
       "      <td>2011</td>\n",
       "      <td>premium unleaded (required)</td>\n",
       "      <td>230.0</td>\n",
       "      <td>6.0</td>\n",
       "      <td>MANUAL</td>\n",
       "      <td>rear wheel drive</td>\n",
       "      <td>2.0</td>\n",
       "      <td>Luxury</td>\n",
       "      <td>Compact</td>\n",
       "      <td>Convertible</td>\n",
       "      <td>28</td>\n",
       "      <td>18</td>\n",
       "      <td>3916</td>\n",
       "      <td>34500</td>\n",
       "    </tr>\n",
       "  </tbody>\n",
       "</table>\n",
       "</div>"
      ],
      "text/plain": [
       "  Make       Model  Year             Engine Fuel Type  Engine HP  \\\n",
       "0  BMW  1 Series M  2011  premium unleaded (required)      335.0   \n",
       "1  BMW    1 Series  2011  premium unleaded (required)      300.0   \n",
       "2  BMW    1 Series  2011  premium unleaded (required)      300.0   \n",
       "3  BMW    1 Series  2011  premium unleaded (required)      230.0   \n",
       "4  BMW    1 Series  2011  premium unleaded (required)      230.0   \n",
       "\n",
       "   Engine Cylinders Transmission Type     Driven_Wheels  Number of Doors  \\\n",
       "0               6.0            MANUAL  rear wheel drive              2.0   \n",
       "1               6.0            MANUAL  rear wheel drive              2.0   \n",
       "2               6.0            MANUAL  rear wheel drive              2.0   \n",
       "3               6.0            MANUAL  rear wheel drive              2.0   \n",
       "4               6.0            MANUAL  rear wheel drive              2.0   \n",
       "\n",
       "                         Market Category Vehicle Size Vehicle Style  \\\n",
       "0  Factory Tuner,Luxury,High-Performance      Compact         Coupe   \n",
       "1                     Luxury,Performance      Compact   Convertible   \n",
       "2                Luxury,High-Performance      Compact         Coupe   \n",
       "3                     Luxury,Performance      Compact         Coupe   \n",
       "4                                 Luxury      Compact   Convertible   \n",
       "\n",
       "   highway MPG  city mpg  Popularity   MSRP  \n",
       "0           26        19        3916  46135  \n",
       "1           28        19        3916  40650  \n",
       "2           28        20        3916  36350  \n",
       "3           28        18        3916  29450  \n",
       "4           28        18        3916  34500  "
      ]
     },
     "execution_count": 231,
     "metadata": {},
     "output_type": "execute_result"
    }
   ],
   "source": [
    "df.head()"
   ]
  },
  {
   "cell_type": "code",
   "execution_count": 232,
   "metadata": {},
   "outputs": [],
   "source": [
    "# fix column names\n",
    "df.columns = df.columns.str.lower().str.replace(\" \", \"_\")"
   ]
  },
  {
   "cell_type": "code",
   "execution_count": 233,
   "metadata": {},
   "outputs": [],
   "source": [
    "string_columns = list(df.dtypes[df.dtypes == \"object\"].index)\n",
    "\n",
    "for col in string_columns:\n",
    "  df[col] = df[col].str.lower().str.replace(\" \", \"_\")"
   ]
  },
  {
   "cell_type": "code",
   "execution_count": 234,
   "metadata": {},
   "outputs": [
    {
     "data": {
      "text/html": [
       "<div>\n",
       "<style scoped>\n",
       "    .dataframe tbody tr th:only-of-type {\n",
       "        vertical-align: middle;\n",
       "    }\n",
       "\n",
       "    .dataframe tbody tr th {\n",
       "        vertical-align: top;\n",
       "    }\n",
       "\n",
       "    .dataframe thead th {\n",
       "        text-align: right;\n",
       "    }\n",
       "</style>\n",
       "<table border=\"1\" class=\"dataframe\">\n",
       "  <thead>\n",
       "    <tr style=\"text-align: right;\">\n",
       "      <th></th>\n",
       "      <th>make</th>\n",
       "      <th>model</th>\n",
       "      <th>year</th>\n",
       "      <th>engine_fuel_type</th>\n",
       "      <th>engine_hp</th>\n",
       "      <th>engine_cylinders</th>\n",
       "      <th>transmission_type</th>\n",
       "      <th>driven_wheels</th>\n",
       "      <th>number_of_doors</th>\n",
       "      <th>market_category</th>\n",
       "      <th>vehicle_size</th>\n",
       "      <th>vehicle_style</th>\n",
       "      <th>highway_mpg</th>\n",
       "      <th>city_mpg</th>\n",
       "      <th>popularity</th>\n",
       "      <th>msrp</th>\n",
       "    </tr>\n",
       "  </thead>\n",
       "  <tbody>\n",
       "    <tr>\n",
       "      <th>0</th>\n",
       "      <td>bmw</td>\n",
       "      <td>1_series_m</td>\n",
       "      <td>2011</td>\n",
       "      <td>premium_unleaded_(required)</td>\n",
       "      <td>335.0</td>\n",
       "      <td>6.0</td>\n",
       "      <td>manual</td>\n",
       "      <td>rear_wheel_drive</td>\n",
       "      <td>2.0</td>\n",
       "      <td>factory_tuner,luxury,high-performance</td>\n",
       "      <td>compact</td>\n",
       "      <td>coupe</td>\n",
       "      <td>26</td>\n",
       "      <td>19</td>\n",
       "      <td>3916</td>\n",
       "      <td>46135</td>\n",
       "    </tr>\n",
       "    <tr>\n",
       "      <th>1</th>\n",
       "      <td>bmw</td>\n",
       "      <td>1_series</td>\n",
       "      <td>2011</td>\n",
       "      <td>premium_unleaded_(required)</td>\n",
       "      <td>300.0</td>\n",
       "      <td>6.0</td>\n",
       "      <td>manual</td>\n",
       "      <td>rear_wheel_drive</td>\n",
       "      <td>2.0</td>\n",
       "      <td>luxury,performance</td>\n",
       "      <td>compact</td>\n",
       "      <td>convertible</td>\n",
       "      <td>28</td>\n",
       "      <td>19</td>\n",
       "      <td>3916</td>\n",
       "      <td>40650</td>\n",
       "    </tr>\n",
       "    <tr>\n",
       "      <th>2</th>\n",
       "      <td>bmw</td>\n",
       "      <td>1_series</td>\n",
       "      <td>2011</td>\n",
       "      <td>premium_unleaded_(required)</td>\n",
       "      <td>300.0</td>\n",
       "      <td>6.0</td>\n",
       "      <td>manual</td>\n",
       "      <td>rear_wheel_drive</td>\n",
       "      <td>2.0</td>\n",
       "      <td>luxury,high-performance</td>\n",
       "      <td>compact</td>\n",
       "      <td>coupe</td>\n",
       "      <td>28</td>\n",
       "      <td>20</td>\n",
       "      <td>3916</td>\n",
       "      <td>36350</td>\n",
       "    </tr>\n",
       "    <tr>\n",
       "      <th>3</th>\n",
       "      <td>bmw</td>\n",
       "      <td>1_series</td>\n",
       "      <td>2011</td>\n",
       "      <td>premium_unleaded_(required)</td>\n",
       "      <td>230.0</td>\n",
       "      <td>6.0</td>\n",
       "      <td>manual</td>\n",
       "      <td>rear_wheel_drive</td>\n",
       "      <td>2.0</td>\n",
       "      <td>luxury,performance</td>\n",
       "      <td>compact</td>\n",
       "      <td>coupe</td>\n",
       "      <td>28</td>\n",
       "      <td>18</td>\n",
       "      <td>3916</td>\n",
       "      <td>29450</td>\n",
       "    </tr>\n",
       "    <tr>\n",
       "      <th>4</th>\n",
       "      <td>bmw</td>\n",
       "      <td>1_series</td>\n",
       "      <td>2011</td>\n",
       "      <td>premium_unleaded_(required)</td>\n",
       "      <td>230.0</td>\n",
       "      <td>6.0</td>\n",
       "      <td>manual</td>\n",
       "      <td>rear_wheel_drive</td>\n",
       "      <td>2.0</td>\n",
       "      <td>luxury</td>\n",
       "      <td>compact</td>\n",
       "      <td>convertible</td>\n",
       "      <td>28</td>\n",
       "      <td>18</td>\n",
       "      <td>3916</td>\n",
       "      <td>34500</td>\n",
       "    </tr>\n",
       "  </tbody>\n",
       "</table>\n",
       "</div>"
      ],
      "text/plain": [
       "  make       model  year             engine_fuel_type  engine_hp  \\\n",
       "0  bmw  1_series_m  2011  premium_unleaded_(required)      335.0   \n",
       "1  bmw    1_series  2011  premium_unleaded_(required)      300.0   \n",
       "2  bmw    1_series  2011  premium_unleaded_(required)      300.0   \n",
       "3  bmw    1_series  2011  premium_unleaded_(required)      230.0   \n",
       "4  bmw    1_series  2011  premium_unleaded_(required)      230.0   \n",
       "\n",
       "   engine_cylinders transmission_type     driven_wheels  number_of_doors  \\\n",
       "0               6.0            manual  rear_wheel_drive              2.0   \n",
       "1               6.0            manual  rear_wheel_drive              2.0   \n",
       "2               6.0            manual  rear_wheel_drive              2.0   \n",
       "3               6.0            manual  rear_wheel_drive              2.0   \n",
       "4               6.0            manual  rear_wheel_drive              2.0   \n",
       "\n",
       "                         market_category vehicle_size vehicle_style  \\\n",
       "0  factory_tuner,luxury,high-performance      compact         coupe   \n",
       "1                     luxury,performance      compact   convertible   \n",
       "2                luxury,high-performance      compact         coupe   \n",
       "3                     luxury,performance      compact         coupe   \n",
       "4                                 luxury      compact   convertible   \n",
       "\n",
       "   highway_mpg  city_mpg  popularity   msrp  \n",
       "0           26        19        3916  46135  \n",
       "1           28        19        3916  40650  \n",
       "2           28        20        3916  36350  \n",
       "3           28        18        3916  29450  \n",
       "4           28        18        3916  34500  "
      ]
     },
     "execution_count": 234,
     "metadata": {},
     "output_type": "execute_result"
    }
   ],
   "source": [
    "df.head()"
   ]
  },
  {
   "cell_type": "markdown",
   "metadata": {},
   "source": [
    "The result of preprocessing the data. the column names and values are normalized."
   ]
  },
  {
   "cell_type": "markdown",
   "metadata": {},
   "source": [
    "### 2.2.3 Target variable analysis\n",
    "The MSRP column contains the important information - it's the target variable $y$, which is the value that we want to learn to predict.\n",
    "\n",
    "First step to look at what the vlaues of $y$ look like. Typically it is done by checking the distribution of $y$: a visual description of what the possible values of $y$ can be and how often they occur. This type of visualization is called a *histogram*."
   ]
  },
  {
   "cell_type": "code",
   "execution_count": 235,
   "metadata": {},
   "outputs": [
    {
     "data": {
      "text/plain": [
       "<AxesSubplot:xlabel='msrp', ylabel='Count'>"
      ]
     },
     "execution_count": 235,
     "metadata": {},
     "output_type": "execute_result"
    },
    {
     "data": {
      "image/png": "[encoded data removed]",
      "text/plain": [
       "<Figure size 432x288 with 1 Axes>"
      ]
     },
     "metadata": {
      "needs_background": "light"
     },
     "output_type": "display_data"
    }
   ],
   "source": [
    "sns.histplot(df.msrp, bins=40)"
   ]
  },
  {
   "cell_type": "code",
   "execution_count": 236,
   "metadata": {},
   "outputs": [
    {
     "data": {
      "text/plain": [
       "<AxesSubplot:xlabel='msrp', ylabel='Count'>"
      ]
     },
     "execution_count": 236,
     "metadata": {},
     "output_type": "execute_result"
    },
    {
     "data": {
      "image/png": "[encoded data removed]",
      "text/plain": [
       "<Figure size 432x288 with 1 Axes>"
      ]
     },
     "metadata": {
      "needs_background": "light"
     },
     "output_type": "display_data"
    }
   ],
   "source": [
    "sns.histplot(df.msrp[df.msrp < 100000])"
   ]
  },
  {
   "cell_type": "markdown",
   "metadata": {},
   "source": [
    "The long tail makes it quite difficult for us to see the distribution, but it has an even stronger effect on a model: such distribution can greatly confuse the model. To solve this problem is log transformation. Apply the log function to the prices, it removes the undesired effect\n",
    "\n",
    "$ y_{new} = log(y + 1)$\n",
    "\n",
    "The $+1$ part is important in case that have zeros. The logarithm of zero is minus infinity, but the logarithm of one is zero. If vlaues are all non-negative, by adding 1, it make sure that the transformed values do not go below zero."
   ]
  },
  {
   "cell_type": "code",
   "execution_count": 237,
   "metadata": {},
   "outputs": [],
   "source": [
    "log_price = np.log1p(df.msrp)"
   ]
  },
  {
   "cell_type": "code",
   "execution_count": 238,
   "metadata": {},
   "outputs": [
    {
     "data": {
      "text/plain": [
       "<AxesSubplot:xlabel='msrp', ylabel='Count'>"
      ]
     },
     "execution_count": 238,
     "metadata": {},
     "output_type": "execute_result"
    },
    {
     "data": {
      "image/png": "[encoded data removed]",
      "text/plain": [
       "<Figure size 432x288 with 1 Axes>"
      ]
     },
     "metadata": {
      "needs_background": "light"
     },
     "output_type": "display_data"
    }
   ],
   "source": [
    "sns.histplot(log_price)"
   ]
  },
  {
   "cell_type": "markdown",
   "metadata": {},
   "source": [
    "The transformation removes the long tail, and now the distribution resembles a bell-shaped curve. This distribution is not normal, of course, because of the large peak in lower prices, but the model can deal with it more easily.\n",
    "\n",
    "**[NOTE]** Generally, it's good when the target distribution looks like the normal distribution. Models such as linear regression perform well. The normal distribution, also known as **Gaussian**, follows the bell-shaped curve, which is symmetrical and has a peak in the center."
   ]
  },
  {
   "cell_type": "markdown",
   "metadata": {},
   "source": [
    "### 2.2.4 Checking for missing values"
   ]
  },
  {
   "cell_type": "code",
   "execution_count": 239,
   "metadata": {},
   "outputs": [
    {
     "data": {
      "text/plain": [
       "make                    0\n",
       "model                   0\n",
       "year                    0\n",
       "engine_fuel_type        3\n",
       "engine_hp              69\n",
       "engine_cylinders       30\n",
       "transmission_type       0\n",
       "driven_wheels           0\n",
       "number_of_doors         6\n",
       "market_category      3742\n",
       "vehicle_size            0\n",
       "vehicle_style           0\n",
       "highway_mpg             0\n",
       "city_mpg                0\n",
       "popularity              0\n",
       "msrp                    0\n",
       "dtype: int64"
      ]
     },
     "execution_count": 239,
     "metadata": {},
     "output_type": "execute_result"
    }
   ],
   "source": [
    "df.isnull().sum()"
   ]
  },
  {
   "cell_type": "markdown",
   "metadata": {},
   "source": [
    "### 2.2.5 Validation Framework\n",
    "Sometimes these optimization methods pick up spurious patterns - patterns that appear to be real patterns to the model but in reality are random flucturations.\n",
    "\n",
    "The entire dataset is split into 3 parts: train, validation and test\n",
    "- Training: 60%\n",
    "- Validation: 20%\n",
    "- Test: 20%"
   ]
  },
  {
   "cell_type": "code",
   "execution_count": 240,
   "metadata": {},
   "outputs": [],
   "source": [
    "n = len(df)\n",
    "\n",
    "n_val = int(0.2 * n)\n",
    "n_test = int(0.2 * n)\n",
    "n_train = n - (n_val + n_test)\n",
    "\n",
    "np.random.seed(2)\n",
    "idx = np.arange(n)\n",
    "\n",
    "np.random.shuffle(idx)\n",
    "\n",
    "df_shuffled = df.iloc[idx]\n",
    "\n",
    "df_train = df_shuffled.iloc[:n_train].copy()\n",
    "df_val = df_shuffled.iloc[n_train:n_train + n_val].copy()\n",
    "df_test = df_shuffled.iloc[n_train + n_val:].copy()"
   ]
  },
  {
   "cell_type": "code",
   "execution_count": 241,
   "metadata": {},
   "outputs": [
    {
     "name": "stdout",
     "output_type": "stream",
     "text": [
      "before shuffle [0 1 2 3 4]\n",
      "after shuffle [2 4 1 3 0]\n"
     ]
    }
   ],
   "source": [
    "np.random.seed(2)\n",
    "\n",
    "idx = np.arange(5)\n",
    "\n",
    "print('before shuffle', idx)\n",
    "\n",
    "np.random.shuffle(idx)\n",
    "\n",
    "print('after shuffle', idx)"
   ]
  },
  {
   "cell_type": "code",
   "execution_count": 242,
   "metadata": {},
   "outputs": [],
   "source": [
    "y_train = np.log1p(df_train.msrp.values)\n",
    "y_val = np.log1p(df_val.msrp.values)\n",
    "y_test = np.log1p(df_test.msrp.values)"
   ]
  },
  {
   "cell_type": "code",
   "execution_count": 243,
   "metadata": {},
   "outputs": [],
   "source": [
    "del df_train['msrp']\n",
    "del df_val['msrp']\n",
    "del df_test['msrp']"
   ]
  },
  {
   "cell_type": "markdown",
   "metadata": {},
   "source": [
    "## 2.3 Machine learning for regression\n",
    "For this project we will use the simplest regression model: linear regression."
   ]
  },
  {
   "cell_type": "markdown",
   "metadata": {},
   "source": [
    "### 2.3.1 Linear regression\n",
    "\n",
    "$ y \\approx g(X) $\n",
    "\n",
    "This is a matrix form. X is a matrix where the features of observation are rows of the matrix, and $y$ is a vector with the values we want to predict.\n",
    "\n",
    "The index $i$ here means that this is an observation number $i$, one of $m$ observations that we have in our training dataset.\n",
    "\n",
    "For a single observation:\n",
    "\n",
    "$ y_{i} \\approx g(x_{i}) $\n",
    "\n",
    "When have $n$ features, the vector $x_{i}$ is n-dimensional, so it has $n$ components:\n",
    "\n",
    "$ x_{i} = (x_{i1}, x_{i2}, ...,x_{in}) $\n",
    "\n",
    "The function $g$ can be rewrite as a function with $n$ parameters\n",
    "\n",
    "$ y_{i} = g(x_{i}) = g(x_{i1}, x_{i2}, ...,x_{in}) $\n",
    "\n",
    "In this dataset, it have 7,150 cars in the training dataset. This means that $m = 7,150$ and $i$ can be any number between 0 and 7,149.\n",
    "\n",
    "In this case, the function $g$ has the following signature in Python.\n",
    "\n",
    "```python\n",
    "def g(xi):\n",
    "  # xi is a list with n elements\n",
    "  # do something with xi\n",
    "  # return the result\n",
    "  pass\n",
    "```\n",
    "\n",
    "When apply the function $g$ to a vector $xi$, it produces $y_pred$ as the output, which is the $g$'s prediction for $xi$:\n",
    "\n",
    "$ y_{pred} = g(x_{i}) $\n",
    "\n",
    "There are many ways the function $g$ could look, and the choice of a machine learning algorithm defines the way it works.\n",
    "\n",
    "If $g$ is the **linear regression** model, it has the following form:\n",
    "\n",
    "$ g(x_{i}) = g(x_{i1}, x_{i2}, ..., x_{in}) = w_0 + x_{i1}w_1 + x_{i2}w2 + ... + x_{in}w_n $\n",
    "\n",
    "The variables $w_0, w_1, w_2, ..., w_n$ are the parameters of the model\n",
    "\n",
    "- $w_0$ is the *bias* term\n",
    "- $w_1, w_2, ...w_n$ are the *weights for each feature $x_{i1}, x_{i2}, ... x_{in}$\n",
    "\n",
    "$ g(x_{i}) = g(x_{i1}, x_{i2}, ..., x_{in}) = w_0 + \\sum_{j=1}^{n}x_{ij}w_{j} $\n",
    "\n",
    "In code:\n",
    "```python\n",
    "result = w0 + xi[0] * w[0] + xi[1] * w[1] + xi[2] * w[2]\n",
    "```\n",
    "\n",
    "Because both features and weights are bectors $x_i$ and $w$, respectively, we can replcae the sum of the elements of these vectors with a dot product between them.\n",
    "\n",
    "$ x_i^Tw = \\sum_{j=1}^n x_{ij}w_{j} = x_{i1}w_1 + x_{i2}w_2 + ... + x_{in}w_n $\n",
    "\n",
    "In code:\n",
    "```python\n",
    "def dot(xi, w):\n",
    "  n = len(w)\n",
    "\n",
    "  result = 0.0\n",
    "\n",
    "  for j in range(n):\n",
    "    result = result + xi[i] * w[j]\n",
    "  \n",
    "  return result\n",
    "```\n",
    "\n",
    "Using the new notation, we can rewrite the entire equation for lienar regression as\n",
    "\n",
    "$ g(x_i) = w_0 + x_i^Tw $\n",
    "\n",
    "where\n",
    "- $w_0$ is the bias term.\n",
    "- $w$ is the n-dimensional vector of weights.\n",
    "\n",
    "By appending $w_0$ into the weights vector and a dummy feature (value 1) to the features vector. We can expression the model as the dot product between the new $x_i$ and the new $w$:\n",
    "\n",
    "$ g(x_{i}) = x_i^Tw$\n"
   ]
  },
  {
   "cell_type": "markdown",
   "metadata": {},
   "source": [
    "There are many observations and $x_i$ is one of them. Thus, we have $m$ feature vectors $x_1, x_2, ... x_m$ and each of these vectors consists of $n+1$ features\n",
    "\n",
    "$ x_1 = (1, x_{11}, x_{12}, ..., x_{1n}) $\n",
    "\n",
    "$ x_2 = (1, x_{21}, x_{22}, ..., x_{2n}) $\n",
    "\n",
    "$ x_i = (1, x_{i1}, x_{i2}, ..., x_{in}) $\n",
    "\n",
    "$ x_m = (1, x_{m1}, x_{m2}, ..., x_{mn}) $\n",
    "\n",
    "$ g(X) = w_0 + Xw $"
   ]
  },
  {
   "cell_type": "markdown",
   "metadata": {},
   "source": [
    "### 2.3.2 Training linear regression model\n",
    "To learn the weights from data, we use the target variable $y$ to find such $w$ that combines the features of $X$ in the best possible way. **Best possible** in the case of linear regression means that it minimizes the error between the predictions $g(X)$ and the actual target $y$.\n",
    "\n",
    "The weight vector $w$ can be computed with the following formula:\n",
    "\n",
    "$ w = (X^TX)^{-1}X^Ty $\n",
    "\n",
    "Translating to NumPy:\n",
    "- $X^T$ is the transpose of $X$. In NumPy, it's `X.T`\n",
    "- $X^TX$ is a matrix-matrix multiplication, which can be done with ther `dot` method from NumPy: `X.T.dot(X)`\n",
    "- $X^{-1}$ is the inverse of $X$. We can use `np.linalg.inv` function to calculate the inverse\n",
    "\n",
    "So the formula above translates to\n",
    "\n",
    "```python\n",
    "inv(X.T.dot(X)).dot(X.T).dot(y)\n",
    "```\n",
    "\n",
    "To implement the normal equation\n",
    "1. Create a function that takes a matrix $X$ with features and a vector $y$ with the target\n",
    "2. Add a dummy column (the feature that is always set to 1) to the matrix $X$\n",
    "3. Train the model: compute the weight $w$ by using the normal equation\n",
    "4. Split this $w$ into the bias $w_0$ and the rest of the weights and return them\n",
    "\n",
    "The last step - splitting $w$ into the bias term and the rest - is optional, and mostly for convenience; otherwise, we need to add the dummy column every time we want to make prediction instead of doing it once during traning.\n"
   ]
  },
  {
   "cell_type": "code",
   "execution_count": 244,
   "metadata": {},
   "outputs": [],
   "source": [
    "def train_linear_regression(X, y):\n",
    "  # adding the dummy column\n",
    "  ones = np.ones(X.shape[0])\n",
    "  X = np.column_stack([ones, X])\n",
    "\n",
    "  # normal equation formula\n",
    "  XTX = X.T.dot(X)\n",
    "  XTX_inv = np.linalg.inv(XTX)\n",
    "  w = XTX_inv.dot(X.T).dot(y)\n",
    "\n",
    "  return w[0], w[1:]"
   ]
  },
  {
   "cell_type": "code",
   "execution_count": 245,
   "metadata": {},
   "outputs": [
    {
     "data": {
      "text/plain": [
       "array([[1, 2, 3],\n",
       "       [1, 4, 5]])"
      ]
     },
     "execution_count": 245,
     "metadata": {},
     "output_type": "execute_result"
    }
   ],
   "source": [
    "ones = np.array([1, 1])\n",
    "\n",
    "X = np.array([[2, 3,], [4, 5]])\n",
    "\n",
    "np.column_stack([ones, X])"
   ]
  },
  {
   "cell_type": "markdown",
   "metadata": {},
   "source": [
    "## 2.4 Predicting the price"
   ]
  },
  {
   "cell_type": "markdown",
   "metadata": {},
   "source": [
    "### 2.4.1 Baseline solution\n",
    "To start with a very naive way of creating features by select a few numerical features and form the matrix $X$ from them.\n",
    "\n",
    "- engine_hp\n",
    "- engine_cylinders\n",
    "- highway_mpg\n",
    "- city_mpg\n",
    "- popularity\n"
   ]
  },
  {
   "cell_type": "code",
   "execution_count": 246,
   "metadata": {},
   "outputs": [],
   "source": [
    "base = [\n",
    "  \"engine_hp\",\n",
    "  \"engine_cylinders\",\n",
    "  \"highway_mpg\",\n",
    "  \"city_mpg\",\n",
    "  \"popularity\"\n",
    "]\n",
    "\n",
    "df_num = df_train[base]"
   ]
  },
  {
   "cell_type": "markdown",
   "metadata": {},
   "source": [
    "AS discuessed previously on exploratory data analysis, the dataset has missing values. It needs to be handled because linear regression model cannot deal with missing values automatically.\n",
    "\n",
    "A simplest possible approach is to fill the missing values with zeros. This method may not be the best way to deal with missing values, but often it's good enough. If we set the missing feature value to zero, the respective feature is simply ignored.\n",
    "\n",
    "**NOTE:** An alternative option is to replace the missing values with the average values. "
   ]
  },
  {
   "cell_type": "code",
   "execution_count": 247,
   "metadata": {},
   "outputs": [],
   "source": [
    "df_num = df_num.fillna(0)"
   ]
  },
  {
   "cell_type": "markdown",
   "metadata": {},
   "source": [
    "Recall that the formula of linear regression. If a feature $x_in$  is missing, reguardless of the weight $w_n$ for this feature, the product $x_{in}w_n$ will always be zero. In other words, this feature will have no contribution to the final prediction, and we will base our prediction only on features that aren't missing"
   ]
  },
  {
   "cell_type": "code",
   "execution_count": 248,
   "metadata": {},
   "outputs": [
    {
     "data": {
      "text/plain": [
       "array([[ 148.,    4.,   33.,   24., 1385.],\n",
       "       [ 132.,    4.,   32.,   25., 2031.],\n",
       "       [ 148.,    4.,   37.,   28.,  640.],\n",
       "       ...,\n",
       "       [ 285.,    6.,   22.,   17.,  549.],\n",
       "       [ 563.,   12.,   21.,   13.,   86.],\n",
       "       [ 200.,    4.,   31.,   22.,  873.]])"
      ]
     },
     "execution_count": 248,
     "metadata": {},
     "output_type": "execute_result"
    }
   ],
   "source": [
    "# Convert DataFrame to NumPy array\n",
    "X_train = df_num.values\n",
    "\n",
    "X_train"
   ]
  },
  {
   "cell_type": "code",
   "execution_count": 249,
   "metadata": {},
   "outputs": [],
   "source": [
    "w_0, w = train_linear_regression(X_train, y_train)"
   ]
  },
  {
   "cell_type": "code",
   "execution_count": 250,
   "metadata": {},
   "outputs": [
    {
     "data": {
      "text/plain": [
       "array([ 9.54792783,  9.38733977,  9.67197758, ..., 10.30423015,\n",
       "       11.9778914 ,  9.99863111])"
      ]
     },
     "execution_count": 250,
     "metadata": {},
     "output_type": "execute_result"
    }
   ],
   "source": [
    "y_pred = w_0 + X_train.dot(w)\n",
    "\n",
    "y_pred"
   ]
  },
  {
   "cell_type": "code",
   "execution_count": 251,
   "metadata": {},
   "outputs": [
    {
     "data": {
      "text/plain": [
       "<matplotlib.legend.Legend at 0x15f527b80>"
      ]
     },
     "execution_count": 251,
     "metadata": {},
     "output_type": "execute_result"
    },
    {
     "data": {
      "image/png": "[encoded data removed]",
      "text/plain": [
       "<Figure size 432x288 with 1 Axes>"
      ]
     },
     "metadata": {
      "needs_background": "light"
     },
     "output_type": "display_data"
    }
   ],
   "source": [
    "sns.histplot(y_pred, label=\"prediction\", color=\"#FFFF44\")\n",
    "sns.histplot(y_train, label=\"target\", color=\"#44FFFF\")\n",
    "plt.legend()"
   ]
  },
  {
   "cell_type": "markdown",
   "metadata": {},
   "source": [
    "### 2.4.2 RMSE: Evaluating model quality\n",
    "It is required to use a metric that quantifies the quality of the model. The most commonly used one is *root mean squared error* - RMSE for short\n",
    "\n",
    "RMSE tells us how large the errors are that our model makes\n",
    "\n",
    "$ RMSE = \\sqrt{\\frac{1}{m}\\sum^m_{i=1}(g(x_{i}) - y_{i})^2} $\n",
    "\n",
    "First let's look inside the sum \n",
    "\n",
    "$ (g(x_{i}) - y_{i})^2 $\n",
    "\n",
    "This is the difference between the prediction we make for the observation and the actual target value for that observation \n",
    "\n",
    "It gives a lot more weight to larger differences by using the square of the difference. this is the SE (squared error) part of RMSE.\n",
    "\n",
    "$ \\sum^m_{i=1}(g(x_{i}) - y_{i})^2 $\n",
    "\n",
    "The summation goes over all $m$ observations and puts all the squared errors together into a single number.\n",
    "\n",
    "If we divide this sum by $m$, we get the mean squared error\n",
    "\n",
    "This is the squared error that our model makes on average - the M part (mean) of RMSE, or *mean squared error* (MSE). MSE is also a good metric on its own.\n",
    "\n",
    "Finally, we take the square root of that."
   ]
  },
  {
   "cell_type": "code",
   "execution_count": 252,
   "metadata": {},
   "outputs": [],
   "source": [
    "def rmse(y, y_pred):\n",
    "  error = y_pred - y\n",
    "  mse = (error ** 2).mean()\n",
    "  return np.sqrt(mse)"
   ]
  },
  {
   "cell_type": "code",
   "execution_count": 253,
   "metadata": {},
   "outputs": [
    {
     "data": {
      "text/plain": [
       "0.7554192603920132"
      ]
     },
     "execution_count": 253,
     "metadata": {},
     "output_type": "execute_result"
    }
   ],
   "source": [
    "rmse(y_train, y_pred)"
   ]
  },
  {
   "cell_type": "markdown",
   "metadata": {},
   "source": [
    "### 2.4.3 Validating the model"
   ]
  },
  {
   "cell_type": "code",
   "execution_count": 254,
   "metadata": {},
   "outputs": [],
   "source": [
    "df_num = df_val[base]\n",
    "df_num = df_num.fillna(0)\n",
    "\n",
    "X_val = df_num.values"
   ]
  },
  {
   "cell_type": "code",
   "execution_count": 255,
   "metadata": {},
   "outputs": [],
   "source": [
    "y_pred = w_0 + X_val.dot(w)"
   ]
  },
  {
   "cell_type": "code",
   "execution_count": 256,
   "metadata": {},
   "outputs": [
    {
     "data": {
      "text/plain": [
       "0.7616530991301608"
      ]
     },
     "execution_count": 256,
     "metadata": {},
     "output_type": "execute_result"
    }
   ],
   "source": [
    "rmse(y_val, y_pred)"
   ]
  },
  {
   "cell_type": "code",
   "execution_count": 257,
   "metadata": {},
   "outputs": [],
   "source": [
    "def prepare_X(df):\n",
    "  df_num = df[base]\n",
    "  df_num = df_num.fillna(0)\n",
    "  X = df_num.values\n",
    "  return X"
   ]
  },
  {
   "cell_type": "code",
   "execution_count": 258,
   "metadata": {},
   "outputs": [
    {
     "name": "stdout",
     "output_type": "stream",
     "text": [
      "Validation:  0.7616530991301608\n"
     ]
    }
   ],
   "source": [
    "X_train = prepare_X(df_train)\n",
    "w_0, w = train_linear_regression(X_train, y_train)\n",
    "\n",
    "X_val = prepare_X(df_val)\n",
    "y_pred = w_0 + X_val.dot(w)\n",
    "print(\"Validation: \", rmse(y_val, y_pred))"
   ]
  },
  {
   "cell_type": "markdown",
   "metadata": {},
   "source": [
    "### 2.4.4 Simple feature engineering"
   ]
  },
  {
   "cell_type": "code",
   "execution_count": 259,
   "metadata": {},
   "outputs": [],
   "source": [
    "df_train[\"age\"] = 2017 - df_train.year"
   ]
  },
  {
   "cell_type": "code",
   "execution_count": 260,
   "metadata": {},
   "outputs": [],
   "source": [
    "def prepare_X(df):\n",
    "  df = df.copy()\n",
    "  features = base.copy()\n",
    "\n",
    "  df[\"age\"] = 2017 - df.year\n",
    "  features.append(\"age\")\n",
    "\n",
    "  df_num = df[features]\n",
    "  df_num = df_num.fillna(0)\n",
    "  X = df_num.values\n",
    "  return X"
   ]
  },
  {
   "cell_type": "code",
   "execution_count": 261,
   "metadata": {},
   "outputs": [
    {
     "name": "stdout",
     "output_type": "stream",
     "text": [
      "Validation:  0.5172055461058325\n"
     ]
    }
   ],
   "source": [
    "X_train = prepare_X(df_train)\n",
    "w_0, w = train_linear_regression(X_train, y_train)\n",
    "\n",
    "X_val = prepare_X(df_val)\n",
    "y_pred = w_0 + X_val.dot(w)\n",
    "print(\"Validation: \", rmse(y_val, y_pred))"
   ]
  },
  {
   "cell_type": "code",
   "execution_count": 262,
   "metadata": {},
   "outputs": [
    {
     "data": {
      "text/plain": [
       "<matplotlib.legend.Legend at 0x15f6ce2b0>"
      ]
     },
     "execution_count": 262,
     "metadata": {},
     "output_type": "execute_result"
    },
    {
     "data": {
      "image/png": "[encoded data removed]",
      "text/plain": [
       "<Figure size 432x288 with 1 Axes>"
      ]
     },
     "metadata": {
      "needs_background": "light"
     },
     "output_type": "display_data"
    }
   ],
   "source": [
    "sns.histplot(y_pred, label=\"prediction\", color=\"#FF4F4F\")\n",
    "sns.histplot(y_val, label=\"target\", color=\"#4F4Fff\")\n",
    "plt.legend()"
   ]
  },
  {
   "cell_type": "markdown",
   "metadata": {},
   "source": [
    "### 2.4.5 Handing categorical variables\n",
    "**Categorical variables** describe characteristics of objects and can take  one of a few possible values. \n",
    "\n",
    "Categorical variables in a machine learning model can be used in multiple ways. One of the simplist ways is to encode such variables by a set of binary features, with a seperate feature of each distinct value.\n",
    "\n",
    "This method of encoding categorical variable is call **one-hot encoding** "
   ]
  },
  {
   "cell_type": "code",
   "execution_count": 263,
   "metadata": {},
   "outputs": [],
   "source": [
    "def prepare_X(df):\n",
    "  df = df.copy()\n",
    "  features = base.copy()\n",
    "\n",
    "  df[\"age\"] = 2017 - df.year\n",
    "  features.append(\"age\")\n",
    "\n",
    "  for v in [2, 3, 4]:\n",
    "    feature = f\"nun_doors_{v}\"\n",
    "    value = (df[\"number_of_doors\"] == v).astype(int)\n",
    "    df[feature] = value\n",
    "    features.append(feature)\n",
    "\n",
    "  df_num = df[features]\n",
    "  df_num = df_num.fillna(0)\n",
    "  X = df_num.values\n",
    "  return X"
   ]
  },
  {
   "cell_type": "code",
   "execution_count": 264,
   "metadata": {},
   "outputs": [],
   "source": [
    "top_5_makers = df[\"make\"].value_counts().head(5).keys().array"
   ]
  },
  {
   "cell_type": "code",
   "execution_count": 265,
   "metadata": {},
   "outputs": [],
   "source": [
    " def prepare_X(df):\n",
    "  df = df.copy()\n",
    "  features = base.copy()\n",
    "\n",
    "  df[\"age\"] = 2017 - df.year\n",
    "  features.append(\"age\")\n",
    "\n",
    "  for v in [2, 3, 4]:\n",
    "    feature = f\"nun_doors_{v}\"\n",
    "    value = (df[\"number_of_doors\"] == v).astype(int)\n",
    "    df[feature] = value\n",
    "    features.append(feature)\n",
    "\n",
    "  for v in top_5_makers:\n",
    "    feature = f\"is_make_#{v}\"\n",
    "    df[feature] = (df[\"make\"] == v).astype(int)\n",
    "    features.append(feature)\n",
    "  \n",
    "\n",
    "  df_num = df[features]\n",
    "  df_num = df_num.fillna(0)\n",
    "  X = df_num.values\n",
    "  return X"
   ]
  },
  {
   "cell_type": "code",
   "execution_count": 266,
   "metadata": {},
   "outputs": [
    {
     "name": "stdout",
     "output_type": "stream",
     "text": [
      "Validation:  0.5076038849555975\n"
     ]
    }
   ],
   "source": [
    "X_train = prepare_X(df_train)\n",
    "w_0, w = train_linear_regression(X_train, y_train)\n",
    "\n",
    "X_val = prepare_X(df_val)\n",
    "y_pred = w_0 + X_val.dot(w)\n",
    "print(\"Validation: \", rmse(y_val, y_pred))"
   ]
  },
  {
   "cell_type": "code",
   "execution_count": 267,
   "metadata": {},
   "outputs": [],
   "source": [
    "def binary_encode(df, column=None, prefix=None, types=[], features=[]):\n",
    "  for t in types:\n",
    "    feature = f\"{prefix}_{t}\"\n",
    "    value = (df[column] == t).astype(int)\n",
    "    df[feature] = value\n",
    "    features.append(feature)\n"
   ]
  },
  {
   "cell_type": "code",
   "execution_count": 268,
   "metadata": {},
   "outputs": [],
   "source": [
    "ENGINE_FUEL_TYPES = [\n",
    "  \"regular_unleaded\", \n",
    "  \"premium_unleaded_(required)\",\n",
    "  \"premium_unleaded_(recommended)\",\n",
    "  \"flex-fuel_(unleaded/e85)\"\n",
    "]\n",
    "\n",
    "TRANSMISSION_TYPES = [\n",
    "  \"automatic\",\n",
    "  \"manual\",\n",
    "  \"automated_manual\"\n",
    "]\n",
    "\n",
    "DRIVEN_WHEELS = [\n",
    "  \"front_wheel_drive\",\n",
    "  \"rear_wheel_drive\",\n",
    "  \"all_wheel_drive\",\n",
    "  \"four_wheel_drive\"\n",
    "]\n",
    "\n",
    "MARKET_CATEGORIES = [\n",
    "  \"crossover\",\n",
    "  \"flex_fuel\",\n",
    "  \"luxury\",\n",
    "  \"luxury,performance\",\n",
    "  \"hatchback\"\n",
    "]\n",
    "\n",
    "VEHICLE_SIZES = [\n",
    "  \"compact\",\n",
    "  \"midsize\",\n",
    "  \"large\"\n",
    "]\n",
    "\n",
    "VEHICLE_STYLES = [\n",
    "  \"sedan\",\n",
    "  \"4dr_suv\",\n",
    "  \"coupe\",\n",
    "  \"convertible\",\n",
    "  \"4dr_hatchback\"\n",
    "]\n",
    "\n",
    "def prepare_X(df):\n",
    "  df = df.copy()\n",
    "  features = base.copy()\n",
    "\n",
    "  df[\"age\"] = 2017 - df.year\n",
    "  features.append(\"age\")\n",
    "\n",
    "  binary_encode(\n",
    "    df, \n",
    "    column=\"number_of_doors\",\n",
    "    prefix=\"num_doors\", \n",
    "    types=[2, 3, 4], \n",
    "    features=features)\n",
    "\n",
    "  binary_encode(\n",
    "    df, \n",
    "    column=\"make\",\n",
    "    prefix=\"is_make_\",\n",
    "    types=top_5_makers,\n",
    "    features=features\n",
    "  )\n",
    "\n",
    "  binary_encode(\n",
    "    df, \n",
    "    column=\"engine_fuel_type\",\n",
    "    prefix=\"is_type\",\n",
    "    types=ENGINE_FUEL_TYPES,\n",
    "    features=features\n",
    "  )\n",
    "\n",
    "  binary_encode(\n",
    "    df, \n",
    "    column=\"transmission_type\",\n",
    "    prefix=\"is_transmission\",\n",
    "    types=TRANSMISSION_TYPES,\n",
    "    features=features\n",
    "  )\n",
    "\n",
    "  binary_encode(\n",
    "    df, \n",
    "    column=\"driven_wheels\",\n",
    "    prefix=\"is_driven_wheels\",\n",
    "    types=DRIVEN_WHEELS,\n",
    "    features=features\n",
    "  )\n",
    "  \n",
    "  binary_encode(\n",
    "    df, \n",
    "    column=\"market_category\",\n",
    "    prefix=\"is_mc\",\n",
    "    types=MARKET_CATEGORIES,\n",
    "    features=features\n",
    "  )\n",
    "\n",
    "  binary_encode(\n",
    "    df, \n",
    "    column=\"vehicle_size\",\n",
    "    prefix=\"is_size\",\n",
    "    types=VEHICLE_SIZES,\n",
    "    features=features\n",
    "  )\n",
    "\n",
    "  binary_encode(\n",
    "    df, \n",
    "    column=\"vehicle_style\",\n",
    "    prefix=\"is_style\",\n",
    "    types=VEHICLE_STYLES,\n",
    "    features=features\n",
    "  )\n",
    "\n",
    "  df_num = df[features]\n",
    "  df_num = df_num.fillna(0)\n",
    "  X = df_num.values\n",
    "  return X"
   ]
  },
  {
   "cell_type": "code",
   "execution_count": 269,
   "metadata": {},
   "outputs": [
    {
     "name": "stdout",
     "output_type": "stream",
     "text": [
      "Validation:  28.59371166289286\n"
     ]
    }
   ],
   "source": [
    "X_train = prepare_X(df_train)\n",
    "w_0, w = train_linear_regression(X_train, y_train)\n",
    "\n",
    "X_val = prepare_X(df_val)\n",
    "y_pred = w_0 + X_val.dot(w)\n",
    "print(\"Validation: \", rmse(y_val, y_pred))"
   ]
  },
  {
   "cell_type": "markdown",
   "metadata": {},
   "source": [
    "### 2.4.6 Regularization\n",
    "Adding new features does not always help. The reason for this behavior is numerical instability. Recall the formula of the normal equation:\n",
    "\n",
    "$ w = (X^TX)^{-1}X^Ty $\n",
    "\n",
    "One of the terms in the equation is the inverse of the $X^TX$ matrix. The inversion is the issue in our case. Sometimes, when adding new columns to $X$, it can accidentally add a column that is a combination of other columns.\n",
    "\n",
    "For example, if we already have the MPG in the city feature and decide to add kilometers per liter in the city, the second feature is the same as the first one but multiplied by a constant.\n",
    "\n",
    "When this happens, $X^TX$ becomes *undetermind* or *singular*, which means that it's not possible to find an inverse for this matrix. If we try to invert a singular matrix, NumPy will notify about that by raise a `LinAlgError`\n",
    "\n",
    "```python\n",
    "LinAlgError: Singular matrix\n",
    "```\n",
    "\n",
    "The code didn't raise any exceptions. It happened because we don't typically have columns that are perfect linear combinations of other columns. The real data is often **noisy**, with measurement errors (such as recording 1.3 instead of 13 for MPG), rounding errors (such as storing 0.0999999 instead of 0.1), and many other errors. Technically, such matrics are not singular, so NumPy doesn't complain.\n",
    "\n",
    "For this reason, some of the values in the weights become extremely large - a lot large than they are supposed to be.\n",
    "\n",
    "In numerical linear algebra, such issues are called *numerical instability issues* and they are typically solved with regularization techniques. The aim of *regularization* is to make sure that the inverse exists by forcing the matrix to be invertible. Regularization is an important concept in machine learning: it means \"controlling\" - controlling the weights of the model so that they behave correctly and don't grow too large, as in our case.\n",
    "\n",
    "One way to do regularization is to add a small number to each diagonal element of the matrix. Then we get the following formula for linear regression:\n",
    "\n",
    "**NOTE** Regularized lienar regression is often called *ridge regression*. Many libraries, including Scikit-learn, use *ridge* to refer to regularized linear regression and linear regression to refer to the unregularized model.\n",
    "\n",
    "$ X^TX + \\alpha I $\n",
    "\n",
    "This formula syas that we need $I$ - an **identify matrix**, which is a matrix with ones on the main diagonal and zerios everywhere else. We multiply this identity matrix by a number $\\alpha$. this way, all the ones on the diagonal of $I$ become $\\alpha$. Then we sum $\\alpha I$ and $X^TX$, wich adds $\\alpha$ to all the diagonal elements of $X^TX$.\n",
    "\n",
    "```python\n",
    "XTX = X_train.T.dot(X_Train)\n",
    "XTX = XTX + 0.01 * np.eye(XTX.shape[0])\n",
    "```"
   ]
  },
  {
   "cell_type": "code",
   "execution_count": 270,
   "metadata": {},
   "outputs": [
    {
     "data": {
      "text/plain": [
       "array([[0.01, 0.  , 0.  , 0.  ],\n",
       "       [0.  , 0.01, 0.  , 0.  ],\n",
       "       [0.  , 0.  , 0.01, 0.  ],\n",
       "       [0.  , 0.  , 0.  , 0.01]])"
      ]
     },
     "execution_count": 270,
     "metadata": {},
     "output_type": "execute_result"
    }
   ],
   "source": [
    "(np.eye(4) * 0.01)"
   ]
  },
  {
   "cell_type": "code",
   "execution_count": 271,
   "metadata": {},
   "outputs": [],
   "source": [
    "def train_linear_regression_reg(X, y, r=0.0):\n",
    "  ones = np.ones(X.shape[0])\n",
    "  X = np.column_stack([ones, X])\n",
    "\n",
    "  XTX = X.T.dot(X)\n",
    "  reg = r * np.eye(XTX.shape[0])\n",
    "  XTX = XTX + reg\n",
    "  XTX_inv = np.linalg.inv(XTX)\n",
    "  w = XTX_inv.dot(X.T).dot(y)\n",
    "  return w[0], w[1:]"
   ]
  },
  {
   "cell_type": "markdown",
   "metadata": {},
   "source": [
    "Regularization affects the final solution by making the components of $w$ smaller. We can see that the more regularization we add, the smaller the weights become."
   ]
  },
  {
   "cell_type": "code",
   "execution_count": 272,
   "metadata": {},
   "outputs": [
    {
     "name": "stdout",
     "output_type": "stream",
     "text": [
      "    0, -7103135791205589.00, -0.67, 7103135791204337.00\n",
      "0.001, 7.19, -0.10, 1.81\n",
      " 0.01, 7.18, -0.10, 1.81\n",
      "  0.1, 7.05, -0.10, 1.78\n",
      "    1, 6.22, -0.10, 1.56\n",
      "   10, 4.39, -0.09, 1.08\n"
     ]
    }
   ],
   "source": [
    "for r in [0, 0.001, 0.01, 0.1, 1, 10]:\n",
    "  w_0, w = train_linear_regression_reg(X_train, y_train, r=r)\n",
    "  print('%5s, %.2f, %.2f, %.2f' % (r, w_0, w[13], w[21]))"
   ]
  },
  {
   "cell_type": "code",
   "execution_count": 273,
   "metadata": {},
   "outputs": [
    {
     "name": "stdout",
     "output_type": "stream",
     "text": [
      "Validation;  0.4602267629384194\n"
     ]
    }
   ],
   "source": [
    "X_train = prepare_X(df_train)\n",
    "w_0, w = train_linear_regression_reg(X_train, y_train, r=0.001)\n",
    "\n",
    "X_val = prepare_X(df_val)\n",
    "y_pred = w_0 + X_val.dot(w)\n",
    "print(\"Validation; \", rmse(y_val, y_pred))"
   ]
  },
  {
   "cell_type": "markdown",
   "metadata": {},
   "source": [
    "**NOTE** Sometimes, when adding a new feature causes performance degradation, simply removing this feature may be enough to solve the problem. Having a validation dataset is important to decide whether to add regularization, remove the feature, or do both."
   ]
  },
  {
   "cell_type": "code",
   "execution_count": 274,
   "metadata": {},
   "outputs": [
    {
     "name": "stdout",
     "output_type": "stream",
     "text": [
      " 1e-06 0.46022581034614773\n",
      "0.0001 0.4602254991805762\n",
      " 0.001 0.4602267629384194\n",
      "  0.01 0.46023949626933275\n",
      "   0.1 0.4603700695813315\n",
      "     1 0.4618298042654334\n",
      "     5 0.4684079627533988\n",
      "    10 0.47572481006942474\n"
     ]
    }
   ],
   "source": [
    "X_train = prepare_X(df_train)\n",
    "X_val = prepare_X(df_val)\n",
    " \n",
    "for r in [0.000001, 0.0001, 0.001, 0.01, 0.1, 1, 5, 10]:\n",
    "  w_0, w = train_linear_regression_reg(X_train, y_train, r=r)\n",
    "  y_pred = w_0 + X_val.dot(w)\n",
    "  print('%6s' %r, rmse(y_val, y_pred))"
   ]
  },
  {
   "cell_type": "code",
   "execution_count": 275,
   "metadata": {},
   "outputs": [
    {
     "name": "stdout",
     "output_type": "stream",
     "text": [
      "Validation:  0.46023949626933275\n",
      "Test:  0.457181367918814\n"
     ]
    }
   ],
   "source": [
    "X_train = prepare_X(df_train)\n",
    "w_0, w = train_linear_regression_reg(X_train, y_train, r=0.01)\n",
    "\n",
    "X_val = prepare_X(df_val)\n",
    "y_pred = w_0 + X_val.dot(w)\n",
    "print(\"Validation: \", rmse(y_val, y_pred))\n",
    "\n",
    "X_test = prepare_X(df_test)\n",
    "y_pred = w_0 + X_test.dot(w)\n",
    "print(\"Test: \", rmse(y_test, y_pred))"
   ]
  },
  {
   "cell_type": "markdown",
   "metadata": {},
   "source": [
    "### 2.4.7 Using the model"
   ]
  },
  {
   "cell_type": "code",
   "execution_count": 145,
   "metadata": {},
   "outputs": [],
   "source": [
    "ad = {\n",
    "  'city_mpg': 18,\n",
    "  'driven_wheels': 'all_wheel_drive',\n",
    "  'engine_cylinders': 6.0,\n",
    "  'engine_fuel_type': 'regular_unleaded',\n",
    "  'engine_hp': 268.0,\n",
    "  'highway_mpg': 25,\n",
    "  'make': 'toyota',\n",
    "  'market_category': 'crossover,performance',\n",
    "  'model': 'venza',\n",
    "  'number_of_doors': 4.0,\n",
    "  'popularity': 2031,\n",
    "  'transmission_type': 'automatic',\n",
    "  'vehicle_size': 'midsize',\n",
    "  'vehicle_style': 'wagon',\n",
    "  'year': 2013\n",
    "}"
   ]
  },
  {
   "cell_type": "code",
   "execution_count": 147,
   "metadata": {},
   "outputs": [
    {
     "data": {
      "text/plain": [
       "array([28294.13591291])"
      ]
     },
     "execution_count": 147,
     "metadata": {},
     "output_type": "execute_result"
    }
   ],
   "source": [
    "df_test = pd.DataFrame([ad])\n",
    "X_test = prepare_X(df_test)\n",
    "\n",
    "y_pred = w_0 + X_test.dot(w)\n",
    "\n",
    "suggestion = np.expm1(y_pred)\n",
    "suggestion"
   ]
  },
  {
   "cell_type": "markdown",
   "metadata": {},
   "source": [
    "## Further Readings\n",
    "- The Elements of Statistical Learning, 2nd edition by Hastie, Tibshirani, and Friedman"
   ]
  }
 ],
 "metadata": {
  "kernelspec": {
   "display_name": "Python 3 (ipykernel)",
   "language": "python",
   "name": "python3"
  },
  "language_info": {
   "codemirror_mode": {
    "name": "ipython",
    "version": 3
   },
   "file_extension": ".py",
   "mimetype": "text/x-python",
   "name": "python",
   "nbconvert_exporter": "python",
   "pygments_lexer": "ipython3",
   "version": "3.9.7"
  },
  "orig_nbformat": 4
 },
 "nbformat": 4,
 "nbformat_minor": 2
}
